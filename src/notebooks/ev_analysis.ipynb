{
  "cells": [
    {
      "cell_type": "markdown",
      "metadata": {},
      "source": [
        "# Electric Vehicle Feature Engineering\n",
        "\n",
        "This notebook focuses on creating meaningful features for ML models."
      ]
    },
    {
      "cell_type": "code",
      "execution_count": null,
      "metadata": {},
      "outputs": [
        {
          "ename": "",
          "evalue": "",
          "output_type": "error",
          "traceback": [
            "\u001b[1;31mRunning cells with 'Python 3.13.5' requires the ipykernel package.\n",
            "\u001b[1;31m<a href='command:jupyter.createPythonEnvAndSelectController'>Create a Python Environment</a> with the required packages.\n",
            "\u001b[1;31mOr install 'ipykernel' using the command: '/opt/homebrew/bin/python3 -m pip install ipykernel -U --user --force-reinstall'"
          ]
        }
      ],
      "source": [
        "import pandas as pd\n",
        "import numpy as np\n",
        "from sklearn.preprocessing import LabelEncoder, StandardScaler, OneHotEncoder\n",
        "from sklearn.feature_extraction.text import TfidfVectorizer\n",
        "from sklearn.decomposition import PCA\n",
        "import matplotlib.pyplot as plt\n",
        "import seaborn as sns\n",
        "import warnings\n",
        "warnings.filterwarnings('ignore')"
      ]
    },
    {
      "cell_type": "code",
      "execution_count": null,
      "metadata": {},
      "outputs": [],
      "source": [
        "# Load processed data\n",
        "df = pd.read_csv('../data/processed/ev_data_processed.csv')\n",
        "print(f\"Dataset shape: {df.shape}\")"
      ]
    },
    {
      "cell_type": "markdown",
      "metadata": {},
      "source": [
        "## 1. Create Basic Features"
      ]
    },
    {
      "cell_type": "code",
      "execution_count": null,
      "metadata": {},
      "outputs": [],
      "source": [
        "# Vehicle age\n",
        "current_year = 2024\n",
        "df['vehicle_age'] = current_year - df['Model Year']\n",
        "\n",
        "# Is luxury brand\n",
        "luxury_brands = ['TESLA', 'PORSCHE', 'BMW', 'AUDI', 'MERCEDES-BENZ', 'JAGUAR', 'LEXUS']\n",
        "df['is_luxury'] = df['Make'].isin(luxury_brands).astype(int)\n",
        "\n",
        "# Is BEV\n",
        "df['is_bev'] = (df['Electric Vehicle Type'] == 'Battery Electric Vehicle (BEV)').astype(int)\n",
        "\n",
        "# Has long range (>200 miles)\n",
        "df['has_long_range'] = (df['Electric Range'] > 200).astype(int)\n",
        "\n",
        "# Price category\n",
        "df['price_category'] = pd.cut(df['Base MSRP'], \n",
        "                              bins=[0, 30000, 50000, 75000, np.inf],\n",
        "                              labels=['budget', 'mid', 'premium', 'luxury'])\n",
        "\n",
        "print(\"Basic features created!\")"
      ]
    },
    {
      "cell_type": "markdown",
      "metadata": {},
      "source": [
        "## 2. Geographic Features"
      ]
    },
    {
      "cell_type": "code",
      "execution_count": null,
      "metadata": {},
      "outputs": [],
      "source": [
        "# City EV density\n",
        "city_counts = df['City'].value_counts().to_dict()\n",
        "df['city_ev_density'] = df['City'].map(city_counts)\n",
        "\n",
        "# County EV density\n",
        "county_counts = df['County'].value_counts().to_dict()\n",
        "df['county_ev_density'] = df['County'].map(county_counts)\n",
        "\n",
        "# Is urban (top 10 cities)\n",
        "top_cities = df['City'].value_counts().head(10).index\n",
        "df['is_urban'] = df['City'].isin(top_cities).astype(int)\n",
        "\n",
        "print(\"Geographic features created!\")"
      ]
    },
    {
      "cell_type": "markdown",
      "metadata": {},
      "source": [
        "## 3. Manufacturer Features"
      ]
    },
    {
      "cell_type": "code",
      "execution_count": null,
      "metadata": {},
      "outputs": [],
      "source": [
        "# Manufacturer market share\n",
        "make_share = df['Make'].value_counts(normalize=True).to_dict()\n",
        "df['manufacturer_market_share'] = df['Make'].map(make_share)\n",
        "\n",
        "# Model popularity\n",
        "model_counts = df['Model'].value_counts().to_dict()\n",
        "df['model_popularity'] = df['Model'].map(model_counts)\n",
        "\n",
        "# Average range by manufacturer\n",
        "avg_range_by_make = df.groupby('Make')['Electric Range'].mean().to_dict()\n",
        "df['manufacturer_avg_range'] = df['Make'].map(avg_range_by_make)\n",
        "\n",
        "print(\"Manufacturer features created!\")"
      ]
    },
    {
      "cell_type": "markdown",
      "metadata": {},
      "source": [
        "## 4. Encode Categorical Variables"
      ]
    },
    {
      "cell_type": "code",
      "execution_count": null,
      "metadata": {},
      "outputs": [],
      "source": [
        "# Label encoding for ordinal features\n",
        "label_encoders = {}\n",
        "ordinal_features = ['Clean Alternative Fuel Vehicle (CAFV) Eligibility']\n",
        "\n",
        "for feature in ordinal_features:\n",
        "    le = LabelEncoder()\n",
        "    df[f'{feature}_encoded'] = le.fit_transform(df[feature].fillna('Unknown'))\n",
        "    label_encoders[feature] = le\n",
        "\n",
        "# Target encoding for high cardinality features\n",
        "high_card_features = ['Make', 'Model']\n",
        "for feature in high_card_features:\n",
        "    mean_target = df.groupby(feature)['Electric Range'].mean()\n",
        "    df[f'{feature}_target_encoded'] = df[feature].map(mean_target)\n",
        "\n",
        "print(\"Categorical encoding completed!\")"
      ]
    },
    {
      "cell_type": "markdown",
      "metadata": {},
      "source": [
        "## 5. Feature Interactions"
      ]
    },
    {
      "cell_type": "code",
      "execution_count": null,
      "metadata": {},
      "outputs": [],
      "source": [
        "# Range to price ratio\n",
        "df['range_price_ratio'] = df['Electric Range'] / (df['Base MSRP'] + 1)\n",
        "\n",
        "# Age-range interaction\n",
        "df['age_range_interaction'] = df['vehicle_age'] * df['Electric Range']\n",
        "\n",
        "# Luxury BEV indicator\n",
        "df['luxury_bev'] = df['is_luxury'] * df['is_bev']\n",
        "\n",
        "print(\"Feature interactions created!\")"
      ]
    },
    {
      "cell_type": "markdown",
      "metadata": {},
      "source": [
        "## 6. Feature Selection"
      ]
    },
    {
      "cell_type": "code",
      "execution_count": null,
      "metadata": {},
      "outputs": [],
      "source": [
        "# Select features for modeling\n",
        "feature_cols = [\n",
        "    'Model Year', 'Electric Range', 'Base MSRP', 'vehicle_age',\n",
        "    'is_luxury', 'is_bev', 'has_long_range', 'city_ev_density',\n",
        "    'county_ev_density', 'is_urban', 'manufacturer_market_share',\n",
        "    'model_popularity', 'manufacturer_avg_range', 'range_price_ratio',\n",
        "    'age_range_interaction', 'luxury_bev'\n",
        "]\n",
        "\n",
        "# Remove rows with missing values in key features\n",
        "df_model = df[feature_cols].dropna()\n",
        "\n",
        "print(f\"Final feature set shape: {df_model.shape}\")\n",
        "print(f\"Features selected: {len(feature_cols)}\")"
      ]
    },
    {
      "cell_type": "markdown",
      "metadata": {},
      "source": [
        "## 7. Feature Scaling"
      ]
    },
    {
      "cell_type": "code",
      "execution_count": null,
      "metadata": {},
      "outputs": [],
      "source": [
        "# Scale features\n",
        "scaler = StandardScaler()\n",
        "df_scaled = pd.DataFrame(\n",
        "    scaler.fit_transform(df_model),\n",
        "    columns=df_model.columns,\n",
        "    index=df_model.index\n",
        ")\n",
        "\n",
        "print(\"Features scaled successfully!\")"
      ]
    },
    {
      "cell_type": "markdown",
      "metadata": {},
      "source": [
        "## 8. Dimensionality Reduction"
      ]
    },
    {
      "cell_type": "code",
      "execution_count": null,
      "metadata": {},
      "outputs": [],
      "source": [
        "# PCA analysis\n",
        "pca = PCA(n_components=10)\n",
        "pca_features = pca.fit_transform(df_scaled)\n",
        "\n",
        "# Explained variance\n",
        "plt.figure(figsize=(10, 5))\n",
        "plt.subplot(1, 2, 1)\n",
        "plt.bar(range(1, 11), pca.explained_variance_ratio_)\n",
        "plt.xlabel('Component')\n",
        "plt.ylabel('Variance Explained')\n",
        "plt.title('PCA Explained Variance')\n",
        "\n",
        "plt.subplot(1, 2, 2)\n",
        "plt.plot(range(1, 11), np.cumsum(pca.explained_variance_ratio_), 'bo-')\n",
        "plt.xlabel('Number of Components')\n",
        "plt.ylabel('Cumulative Variance Explained')\n",
        "plt.title('Cumulative Explained Variance')\n",
        "plt.axhline(y=0.95, color='r', linestyle='--')\n",
        "plt.tight_layout()\n",
        "plt.show()\n",
        "\n",
        "print(f\"Variance explained by first 10 components: {sum(pca.explained_variance_ratio_):.2%}\")"
      ]
    },
    {
      "cell_type": "markdown",
      "metadata": {},
      "source": [
        "## 9. Feature Importance Analysis"
      ]
    },
    {
      "cell_type": "code",
      "execution_count": null,
      "metadata": {},
      "outputs": [],
      "source": [
        "# Calculate correlation with target\n",
        "target = 'Electric Range'\n",
        "if target in df_model.columns:\n",
        "    correlations = df_model.corr()[target].sort_values(ascending=False)\n",
        "    \n",
        "    plt.figure(figsize=(10, 6))\n",
        "    correlations[1:].plot(kind='barh')\n",
        "    plt.xlabel('Correlation with Electric Range')\n",
        "    plt.title('Feature Correlation with Target')\n",
        "    plt.tight_layout()\n",
        "    plt.show()"
      ]
    },
    {
      "cell_type": "markdown",
      "metadata": {},
      "source": [
        "## 10. Save Engineered Features"
      ]
    },
    {
      "cell_type": "code",
      "execution_count": null,
      "metadata": {},
      "outputs": [],
      "source": [
        "# Save feature-engineered dataset\n",
        "df.to_csv('../data/processed/ev_data_features.csv', index=False)\n",
        "df_scaled.to_csv('../data/processed/ev_data_scaled.csv', index=False)\n",
        "\n",
        "# Save feature list\n",
        "with open('../data/processed/feature_list.txt', 'w') as f:\n",
        "    for feature in feature_cols:\n",
        "        f.write(f\"{feature}\\n\")\n",
        "\n",
        "print(\"Feature engineering completed and saved!\")\n",
        "print(f\"Total features created: {len(df.columns)}\")\n",
        "print(f\"Selected features for modeling: {len(feature_cols)}\")"
      ]
    }
  ],
  "metadata": {
    "kernelspec": {
      "display_name": "Python 3",
      "language": "python",
      "name": "python3"
    },
    "language_info": {
      "codemirror_mode": {
        "name": "ipython",
        "version": 3
      },
      "file_extension": ".py",
      "mimetype": "text/x-python",
      "name": "python",
      "nbconvert_exporter": "python",
      "pygments_lexer": "ipython3",
      "version": "3.13.5"
    }
  },
  "nbformat": 4,
  "nbformat_minor": 4
}
